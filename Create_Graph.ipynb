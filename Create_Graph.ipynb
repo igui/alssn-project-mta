{
  "nbformat": 4,
  "nbformat_minor": 0,
  "metadata": {
    "colab": {
      "name": "Create Graph",
      "private_outputs": true,
      "provenance": [],
      "collapsed_sections": [],
      "include_colab_link": true
    },
    "kernelspec": {
      "name": "python3",
      "display_name": "Python 3"
    },
    "language_info": {
      "name": "python"
    }
  },
  "cells": [
    {
      "cell_type": "markdown",
      "metadata": {
        "id": "view-in-github",
        "colab_type": "text"
      },
      "source": [
        "<a href=\"https://colab.research.google.com/github/igui/alssn-project-mta/blob/main/Create_Graph.ipynb\" target=\"_parent\"><img src=\"https://colab.research.google.com/assets/colab-badge.svg\" alt=\"Open In Colab\"/></a>"
      ]
    },
    {
      "cell_type": "markdown",
      "metadata": {
        "id": "nMqWJKD9dALg"
      },
      "source": [
        "### Mount Microsoft OneDrive to Google Colab\n",
        "\n"
      ]
    },
    {
      "cell_type": "code",
      "metadata": {
        "id": "KN5D0oGI8gMm"
      },
      "source": [
        "!curl --silent https://rclone.org/install.sh | sudo bash"
      ],
      "execution_count": null,
      "outputs": []
    },
    {
      "cell_type": "markdown",
      "metadata": {
        "id": "r1W-7X0yL-s8"
      },
      "source": [
        "Run this in your terminal.\n",
        "\n",
        "```bash\n",
        "$ rclone authorize \"onedrive\"\n",
        "```"
      ]
    },
    {
      "cell_type": "code",
      "metadata": {
        "id": "g6QUUWQf8hdK"
      },
      "source": [
        "!rclone config"
      ],
      "execution_count": null,
      "outputs": []
    },
    {
      "cell_type": "code",
      "metadata": {
        "id": "WZYx5jSZ_dWK"
      },
      "source": [
        "!rm -rf '/content/onedrive' && rm 'nohup.out'\n",
        "!sudo mkdir /content/onedrive\n",
        "!nohup rclone --vfs-cache-mode full mount onedrive: /content/onedrive &"
      ],
      "execution_count": null,
      "outputs": []
    }
  ]
}